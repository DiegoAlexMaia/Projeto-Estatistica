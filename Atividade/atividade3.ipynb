{
 "cells": [
  {
   "cell_type": "markdown",
   "id": "d9271158",
   "metadata": {
    "papermill": {
     "duration": 0.009999,
     "end_time": "2025-06-30T02:29:17.379750",
     "exception": false,
     "start_time": "2025-06-30T02:29:17.369751",
     "status": "completed"
    },
    "tags": []
   },
   "source": [
    "# <center> Estatística</center>\n",
    "<h1> Questão 1 - Diego Alex Maia</h1>\n",
    "<h1>Questão 2 - Diego Alex Maia</h1>\n",
    "<h1>Questão 3 - Samuel Agra</h1>\n",
    "<h1>Questão 4 - Ivan Javier Pereira</h1>\n",
    "<h1>Questão 5 - Samuel Agra</h1>\n",
    "<h1>Questão 6 - Ivan Javier Pereira</h1>"
   ]
  },
  {
   "cell_type": "markdown",
   "id": "ae616318",
   "metadata": {
    "papermill": {
     "duration": 0.008133,
     "end_time": "2025-06-30T02:29:17.396799",
     "exception": false,
     "start_time": "2025-06-30T02:29:17.388666",
     "status": "completed"
    },
    "tags": []
   },
   "source": [
    "# <center> 1- Quais são os 10 países com maior emissão total de CO₂ no ano mais recente disponível? </center>"
   ]
  },
  {
   "cell_type": "code",
   "execution_count": 1,
   "id": "f1f90b83",
   "metadata": {
    "execution": {
     "iopub.execute_input": "2025-06-30T02:29:17.427626Z",
     "iopub.status.busy": "2025-06-30T02:29:17.422319Z",
     "iopub.status.idle": "2025-06-30T02:29:17.485075Z",
     "shell.execute_reply": "2025-06-30T02:29:17.484416Z",
     "shell.execute_reply.started": "2025-06-30T02:14:27.440961Z"
    },
    "papermill": {
     "duration": 0.079936,
     "end_time": "2025-06-30T02:29:17.485248",
     "exception": false,
     "start_time": "2025-06-30T02:29:17.405312",
     "status": "completed"
    },
    "tags": []
   },
   "outputs": [
    {
     "name": "stdout",
     "output_type": "stream",
     "text": [
      "Top 10 países com maiores emissões de CO₂ em 2018 (Gt):\n",
      "country_name\n",
      "China                 10.503\n",
      "United States          4.975\n",
      "India                  2.452\n",
      "Russian Federation     1.661\n",
      "Japan                  1.116\n",
      "Germany                0.708\n",
      "Iran, Islamic Rep.     0.637\n",
      "Korea, Rep.            0.631\n",
      "Canada                 0.580\n",
      "Indonesia              0.577\n",
      "Name: value, dtype: float64\n",
      "\n",
      "Soma total dos 10 maiores emissores: 23.840 Gt\n"
     ]
    }
   ],
   "source": [
    "import pandas as pd\n",
    "\n",
    "# Carrega o dataset\n",
    "df = pd.read_csv('/kaggle/input/co2-emissions-by-country/co2_emissions_kt_by_country.csv')\n",
    "\n",
    "# Renomeia colunas\n",
    "df.rename(columns={\n",
    "    'Country Name': 'country_name',\n",
    "    'Country Code': 'country_code',\n",
    "    'Year': 'year',\n",
    "    'CO2 Emissions in kiloton (kt)': 'value'\n",
    "}, inplace=True)\n",
    "\n",
    "# Lista de agregados que não são países reais\n",
    "excluded_names = [\n",
    "    \"World\", \"IDA & IBRD total\", \"Low & middle income\", \"Middle income\", \"IBRD only\",\n",
    "    \"Upper middle income\", \"Late-demographic dividend\", \"East Asia & Pacific\", \"High income\",\n",
    "    \"East Asia & Pacific (excluding high income)\", \"East Asia & Pacific (IDA & IBRD countries)\",\n",
    "    \"OECD members\", \"Post-demographic dividend\", \"Early-demographic dividend\",\n",
    "    \"Europe & Central Asia\", \"Lower middle income\", \"North America\",\n",
    "    \"Europe & Central Asia (IDA & IBRD countries)\", \"Europe & Central Asia (excluding high income)\",\n",
    "    \"European Union\", \"South Asia\", \"South Asia (IDA & IBRD)\", \"Middle East & North Africa\",\n",
    "    \"Euro area\", \"Arab World\", \"Latin America & Caribbean\",\n",
    "    \"Latin America & the Caribbean (IDA & IBRD countries)\",\n",
    "    \"Middle East & North Africa (excluding high income)\",\n",
    "    \"Middle East & North Africa (IDA & IBRD countries)\",\n",
    "    \"Latin America & Caribbean (excluding high income)\", \"IDA total\", \"Sub-Saharan Africa\",\n",
    "    \"Sub-Saharan Africa (IDA & IBRD countries)\", \"Sub-Saharan Africa (excluding high income)\",\n",
    "    \"Fragile and conflict affected situations\", \"Central Europe and the Baltics\",\n",
    "    \"Africa Eastern and Southern\", \"IDA blend\", \"Pre-demographic dividend\",\n",
    "    \"IDA only\", \"Least developed countries: UN classification\"\n",
    "]\n",
    "\n",
    "# Filtra dados de 2018\n",
    "df_2018 = df[df['year'] == 2018]\n",
    "\n",
    "# Remove valores ausentes e converte para numérico\n",
    "df_2018 = df_2018.dropna(subset=['value'])\n",
    "df_2018['value'] = pd.to_numeric(df_2018['value'], errors='coerce')\n",
    "\n",
    "# Remove entradas que não são países\n",
    "df_2018 = df_2018[~df_2018['country_name'].isin(excluded_names)]\n",
    "\n",
    "# Agrupa e seleciona os 10 maiores emissores\n",
    "top10 = df_2018.groupby('country_name')['value'].sum().sort_values(ascending=False).head(10)\n",
    "\n",
    "# Converte para gigatoneladas\n",
    "top10_gt = top10 / 1_000_000\n",
    "\n",
    "# Exibe resultado\n",
    "print(\"Top 10 países com maiores emissões de CO₂ em 2018 (Gt):\")\n",
    "print(top10_gt.round(3))  # arredonda para 3 casas decimais\n",
    "\n",
    "# Soma total dos 10 maiores emissores\n",
    "soma_top10_gt = top10_gt.sum()\n",
    "print(f\"\\nSoma total dos 10 maiores emissores: {soma_top10_gt:.3f} Gt\")\n"
   ]
  },
  {
   "cell_type": "markdown",
   "id": "fad4ef26",
   "metadata": {
    "papermill": {
     "duration": 0.008726,
     "end_time": "2025-06-30T02:29:17.506088",
     "exception": false,
     "start_time": "2025-06-30T02:29:17.497362",
     "status": "completed"
    },
    "tags": []
   },
   "source": [
    "# <center> 2- Como se distribuem as emissões per capita entre os países? </center>"
   ]
  },
  {
   "cell_type": "code",
   "execution_count": 2,
   "id": "426c5a5f",
   "metadata": {
    "execution": {
     "iopub.execute_input": "2025-06-30T02:29:17.534911Z",
     "iopub.status.busy": "2025-06-30T02:29:17.533846Z",
     "iopub.status.idle": "2025-06-30T02:29:18.066203Z",
     "shell.execute_reply": "2025-06-30T02:29:18.065660Z",
     "shell.execute_reply.started": "2025-06-30T02:14:27.477174Z"
    },
    "papermill": {
     "duration": 0.550477,
     "end_time": "2025-06-30T02:29:18.066341",
     "exception": false,
     "start_time": "2025-06-30T02:29:17.515864",
     "status": "completed"
    },
    "tags": []
   },
   "outputs": [
    {
     "name": "stdout",
     "output_type": "stream",
     "text": [
      "Estatísticas das emissões per capita em 2018:\n",
      "Média: 4.0628\n",
      "Mediana: 2.6034\n",
      "Desvio padrão: 4.5750\n",
      "Mínimo: 0.0262\n",
      "Máximo: 32.4156\n"
     ]
    },
    {
     "data": {
      "image/png": "[encoded data removed]",
      "text/plain": [
       "<Figure size 864x360 with 2 Axes>"
      ]
     },
     "metadata": {
      "needs_background": "light"
     },
     "output_type": "display_data"
    }
   ],
   "source": [
    "import pandas as pd\n",
    "import matplotlib.pyplot as plt\n",
    "\n",
    "# Carregar o dataset\n",
    "df = pd.read_csv('/kaggle/input/co2-emissions-1960-2018/CO2_Emissions_1960-2018.csv')\n",
    "\n",
    "# Renomear a coluna para padronizar\n",
    "df = df.rename(columns={'Country Name': 'Country'})\n",
    "\n",
    "# Último ano disponível (última coluna do dataframe)\n",
    "latest_year = df.columns[-1]\n",
    "\n",
    "# Selecionar as colunas relevantes: País e último ano\n",
    "df_latest = df[['Country', latest_year]].copy()\n",
    "\n",
    "# Renomear para facilitar\n",
    "df_latest = df_latest.rename(columns={latest_year: 'CO2_Emissions'})\n",
    "\n",
    "# Converter para numérico, tratar erros\n",
    "df_latest['CO2_Emissions'] = pd.to_numeric(df_latest['CO2_Emissions'], errors='coerce')\n",
    "\n",
    "# Filtrar para remover agregados e grupos regionais\n",
    "excluir = [\n",
    "    'World', 'High income', 'Low income', 'Upper middle income', 'Lower middle income',\n",
    "    'OECD members', 'European Union', 'Arab World', 'Sub-Saharan Africa', \n",
    "    'East Asia & Pacific', 'Europe & Central Asia', 'Middle East & North Africa',\n",
    "    'South Asia', 'Latin America & Caribbean', 'North America', 'Post-demographic dividend',\n",
    "    'Pre-demographic dividend'\n",
    "]\n",
    "df_latest = df_latest[~df_latest['Country'].isin(excluir)]\n",
    "\n",
    "# Remover valores ausentes\n",
    "df_latest = df_latest.dropna(subset=['CO2_Emissions'])\n",
    "\n",
    "# Calcular estatísticas descritivas\n",
    "media = df_latest['CO2_Emissions'].mean()\n",
    "mediana = df_latest['CO2_Emissions'].median()\n",
    "desvio_padrao = df_latest['CO2_Emissions'].std()\n",
    "minimo = df_latest['CO2_Emissions'].min()\n",
    "maximo = df_latest['CO2_Emissions'].max()\n",
    "\n",
    "print(f\"Estatísticas das emissões per capita em {latest_year}:\")\n",
    "print(f\"Média: {media:.4f}\")\n",
    "print(f\"Mediana: {mediana:.4f}\")\n",
    "print(f\"Desvio padrão: {desvio_padrao:.4f}\")\n",
    "print(f\"Mínimo: {minimo:.4f}\")\n",
    "print(f\"Máximo: {maximo:.4f}\")\n",
    "\n",
    "# Visualização: Histograma e Boxplot\n",
    "plt.figure(figsize=(12, 5))\n",
    "\n",
    "plt.subplot(1, 2, 1)\n",
    "plt.hist(df_latest['CO2_Emissions'], bins=30, color='skyblue', edgecolor='black')\n",
    "plt.title(f'Histograma das emissões per capita em {latest_year}')\n",
    "plt.xlabel('Emissão per capita (toneladas)')\n",
    "plt.ylabel('Frequência')\n",
    "\n",
    "plt.subplot(1, 2, 2)\n",
    "plt.boxplot(df_latest['CO2_Emissions'], vert=True)\n",
    "plt.title(f'Boxplot das emissões per capita em {latest_year}')\n",
    "plt.ylabel('Emissão per capita (toneladas)')\n",
    "\n",
    "plt.tight_layout()\n",
    "plt.show()\n"
   ]
  },
  {
   "cell_type": "markdown",
   "id": "54f903a5",
   "metadata": {
    "papermill": {
     "duration": 0.009799,
     "end_time": "2025-06-30T02:29:18.086580",
     "exception": false,
     "start_time": "2025-06-30T02:29:18.076781",
     "status": "completed"
    },
    "tags": []
   },
   "source": [
    "# <center>3- Quais regiões (continentes) apresentam as maiores variações nas emissões totais ao longo das décadas </center>"
   ]
  },
  {
   "cell_type": "code",
   "execution_count": 3,
   "id": "a8019b7e",
   "metadata": {
    "execution": {
     "iopub.execute_input": "2025-06-30T02:29:18.119308Z",
     "iopub.status.busy": "2025-06-30T02:29:18.118577Z",
     "iopub.status.idle": "2025-06-30T02:29:19.719782Z",
     "shell.execute_reply": "2025-06-30T02:29:19.720250Z",
     "shell.execute_reply.started": "2025-06-30T02:15:14.787666Z"
    },
    "papermill": {
     "duration": 1.623673,
     "end_time": "2025-06-30T02:29:19.720437",
     "exception": false,
     "start_time": "2025-06-30T02:29:18.096764",
     "status": "completed"
    },
    "tags": []
   },
   "outputs": [
    {
     "name": "stdout",
     "output_type": "stream",
     "text": [
      "Continentes com maior variabilidade nas emissões por década:\n",
      "\n",
      " Década Continente  Média de Emissões (Kt)  Desvio Padrão (Kt)\n",
      "   1960     Europe            1,332,840.97        3,644,361.29\n",
      "   1970     Europe            2,122,868.25        5,764,915.24\n",
      "   1980     Europe            2,480,790.04        7,283,916.93\n",
      "   1990       Asia            1,608,474.62        4,822,937.41\n",
      "   2000       Asia            2,572,470.00        8,910,424.02\n",
      "   2010       Asia            4,177,616.13       15,938,011.16\n"
     ]
    },
    {
     "data": {
      "image/png": "[encoded data removed]",
      "text/plain": [
       "<Figure size 864x432 with 1 Axes>"
      ]
     },
     "metadata": {
      "needs_background": "light"
     },
     "output_type": "display_data"
    }
   ],
   "source": [
    "import pandas as pd\n",
    "import matplotlib.pyplot as plt\n",
    "import seaborn as sns\n",
    "\n",
    "#Carregar o dataset de emissões\n",
    "\n",
    "df = pd.read_csv('/kaggle/input/co2-emissions-by-country/co2_emissions_kt_by_country.csv')\n",
    "\n",
    "#Renomear colunas de acordo com a estrutura real do dataset\n",
    "\n",
    "df = df.rename(columns={\n",
    "'country_name': 'Country',\n",
    "'year': 'Year',\n",
    "'value': 'CO2_Emissions'\n",
    "})\n",
    "\n",
    "#Remover entradas que não são países reais (agregados globais ou regionais)\n",
    "\n",
    "excluded_names = [\n",
    "\"World\", \"Asia\", \"Africa\", \"Europe\", \"European Union\", \"North America\",\n",
    "\"South America\", \"Oceania\", \"Antarctica\", \"High-income countries\",\n",
    "\"Low-income countries\", \"Upper-middle-income countries\", \"Lower-middle-income countries\",\n",
    "\"International transport\"\n",
    "]\n",
    "df = df[~df['Country'].isin(excluded_names)]\n",
    "\n",
    "#Carregar o dataset de países para continentes\n",
    "\n",
    "continent_map = pd.read_csv('/kaggle/input/country-to-continent/countryContinent.csv', encoding='latin1')\n",
    "\n",
    "#Fazer o merge para incluir o continente\n",
    "\n",
    "df = df.merge(continent_map, left_on='Country', right_on='country', how='left')\n",
    "df = df.dropna(subset=['continent'])\n",
    "\n",
    "#Criar coluna década\n",
    "\n",
    "df['Decade'] = (df['Year'] // 10) * 10\n",
    "\n",
    "#Agrupar por continente, década e país somando emissões\n",
    "\n",
    "grouped = df.groupby(['continent', 'Decade', 'Country'])['CO2_Emissions'].sum().reset_index()\n",
    "\n",
    "#Calcular média e desvio padrão das emissões por continente e década\n",
    "\n",
    "stats = grouped.groupby(['continent', 'Decade'])['CO2_Emissions'].agg(['mean', 'std']).reset_index()\n",
    "\n",
    "#Encontrar o continente com maior desvio padrão em cada década\n",
    "\n",
    "top_by_decade = stats.sort_values('std', ascending=False).groupby('Decade').first().reset_index()\n",
    "top_by_decade = top_by_decade.sort_values('Decade')\n",
    "\n",
    "#Mostrar tabela formatada\n",
    "\n",
    "print(\"Continentes com maior variabilidade nas emissões por década:\\n\")\n",
    "print(top_by_decade.rename(columns={\n",
    "'continent': 'Continente',\n",
    "'Decade': 'Década',\n",
    "'mean': 'Média de Emissões (Kt)',\n",
    "'std': 'Desvio Padrão (Kt)'\n",
    "}).to_string(index=False, float_format='{:,.2f}'.format))\n",
    "\n",
    "#Plotar gráfico de variação geral por década e continente\n",
    "\n",
    "plt.figure(figsize=(12, 6))\n",
    "sns.lineplot(data=stats, x='Decade', y='std', hue='continent', marker='o')\n",
    "plt.title('Variação (Desvio Padrão) das Emissões de CO₂ por Década e Continente')\n",
    "plt.xlabel('Década')\n",
    "plt.ylabel('Desvio Padrão das Emissões Totais (Kt)')\n",
    "plt.grid(True)\n",
    "plt.tight_layout()\n",
    "plt.show()"
   ]
  },
  {
   "cell_type": "markdown",
   "id": "c72fb521",
   "metadata": {
    "papermill": {
     "duration": 0.011925,
     "end_time": "2025-06-30T02:29:19.744853",
     "exception": false,
     "start_time": "2025-06-30T02:29:19.732928",
     "status": "completed"
    },
    "tags": []
   },
   "source": [
    "# <center> 4- Qual foi a tendência da emissão média anual global de CO₂ ao longo das décadas? </center>"
   ]
  },
  {
   "cell_type": "code",
   "execution_count": 4,
   "id": "54ef06a9",
   "metadata": {
    "execution": {
     "iopub.execute_input": "2025-06-30T02:29:19.779016Z",
     "iopub.status.busy": "2025-06-30T02:29:19.778254Z",
     "iopub.status.idle": "2025-06-30T02:29:19.976015Z",
     "shell.execute_reply": "2025-06-30T02:29:19.975457Z",
     "shell.execute_reply.started": "2025-06-30T02:28:45.873865Z"
    },
    "papermill": {
     "duration": 0.218667,
     "end_time": "2025-06-30T02:29:19.976152",
     "exception": false,
     "start_time": "2025-06-30T02:29:19.757485",
     "status": "completed"
    },
    "tags": []
   },
   "outputs": [
    {
     "name": "stdout",
     "output_type": "stream",
     "text": [
      "   Decade         mean         std\n",
      "0    1960   834.772769  138.925115\n",
      "1    1970  1241.292614   61.330415\n",
      "2    1980  1037.121302  106.588331\n",
      "3    1990   960.054568   20.177203\n",
      "4    2000  1031.443152   40.307369\n",
      "5    2010  1011.828498   21.598212\n"
     ]
    },
    {
     "data": {
      "image/png": "[encoded data removed]",
      "text/plain": [
       "<Figure size 720x432 with 1 Axes>"
      ]
     },
     "metadata": {
      "needs_background": "light"
     },
     "output_type": "display_data"
    }
   ],
   "source": [
    "import pandas as pd\n",
    "import numpy as np\n",
    "import matplotlib.pyplot as plt\n",
    "\n",
    "# Carregar os dados\n",
    "df = pd.read_csv('/kaggle/input/co2-emissions-1960-2018/CO2_Emissions_1960-2018.csv')\n",
    "\n",
    "# Ajustar nome das colunas se necessário\n",
    "df.columns = df.columns.str.strip()\n",
    "\n",
    "# Transpor os dados para ter anos como índice\n",
    "df_years = df.drop(columns=['Country Name'])\n",
    "df_years = df_years.set_index(df['Country Name'])\n",
    "\n",
    "# Somar emissões globais por ano (ignorando valores ausentes)\n",
    "total_global = df_years.sum(axis=0, skipna=True)\n",
    "total_global.index = total_global.index.astype(int)\n",
    "\n",
    "# Criar uma nova coluna com a década correspondente\n",
    "df_decade = total_global.reset_index()\n",
    "df_decade.columns = ['Year', 'Total_CO2']\n",
    "df_decade['Decade'] = (df_decade['Year'] // 10) * 10\n",
    "\n",
    "# Agrupar por década e calcular média e desvio padrão\n",
    "stats_by_decade = df_decade.groupby('Decade')['Total_CO2'].agg(['mean', 'std']).reset_index()\n",
    "\n",
    "# Exibir os resultados\n",
    "print(stats_by_decade)\n",
    "\n",
    "# Plotar tendência\n",
    "plt.figure(figsize=(10, 6))\n",
    "plt.errorbar(stats_by_decade['Decade'], stats_by_decade['mean'],\n",
    "             yerr=stats_by_decade['std'], fmt='-o', capsize=5)\n",
    "plt.title('Tendência da Emissão Média Global de CO₂ por Década')\n",
    "plt.xlabel('Década')\n",
    "plt.ylabel('Emissão Média Global de CO₂ (kt)')\n",
    "plt.grid(True)\n",
    "plt.show()"
   ]
  },
  {
   "cell_type": "markdown",
   "id": "51f362ac",
   "metadata": {
    "papermill": {
     "duration": 0.013564,
     "end_time": "2025-06-30T02:29:20.003782",
     "exception": false,
     "start_time": "2025-06-30T02:29:19.990218",
     "status": "completed"
    },
    "tags": []
   },
   "source": [
    "# <center> 5- Quais países apresentam as maiores diferenças entre emissão total e emissão per capita no último ano? </center>"
   ]
  },
  {
   "cell_type": "code",
   "execution_count": 5,
   "id": "4bbe78c5",
   "metadata": {
    "execution": {
     "iopub.execute_input": "2025-06-30T02:29:20.047126Z",
     "iopub.status.busy": "2025-06-30T02:29:20.046364Z",
     "iopub.status.idle": "2025-06-30T02:29:20.114648Z",
     "shell.execute_reply": "2025-06-30T02:29:20.114044Z",
     "shell.execute_reply.started": "2025-06-30T02:14:29.679854Z"
    },
    "papermill": {
     "duration": 0.096955,
     "end_time": "2025-06-30T02:29:20.114797",
     "exception": false,
     "start_time": "2025-06-30T02:29:20.017842",
     "status": "completed"
    },
    "tags": []
   },
   "outputs": [
    {
     "name": "stdout",
     "output_type": "stream",
     "text": [
      "\n",
      "Top 5 países com MAIOR discrepância entre emissão per capita declarada e calculada (2018):\n",
      "País                      CO2 Total (kt) CO2 per capita (orig) CO2 per capita (calc)   Diferença (t)\n",
      "----------------------------------------------------------------------------------------------------\n",
      "Palau                         250.00          16.191          13.911           2.281\n",
      "United Arab Emirates      177,120.00          20.797          19.071           1.726\n",
      "Nauru                          60.00           6.556           4.872           1.683\n",
      "Iceland                     1,700.00           6.237           4.636           1.601\n",
      "Oman                       75,600.00          15.192          16.640           1.447\n",
      "\n",
      "Top 5 países com MENOR discrepância entre emissão per capita declarada e calculada (2018):\n",
      "País                      CO2 Total (kt) CO2 per capita (orig) CO2 per capita (calc)   Diferença (t)\n",
      "----------------------------------------------------------------------------------------------------\n",
      "Sri Lanka                  21,690.00           0.998           0.999           0.001\n",
      "Burkina Faso                4,670.00           0.216           0.217           0.001\n",
      "Antigua and Barbuda           510.00           5.505           5.504           0.001\n",
      "Israel                     61,080.00           6.976           6.975           0.002\n",
      "Ethiopia                   17,240.00           0.149           0.147           0.002\n"
     ]
    }
   ],
   "source": [
    "import pandas as pd\n",
    "import matplotlib.pyplot as plt\n",
    "import seaborn as sns\n",
    "\n",
    "# Carregar os datasets\n",
    "co2_total = pd.read_csv('/kaggle/input/co2-emissions-by-country/co2_emissions_kt_by_country.csv')\n",
    "co2_percapita = pd.read_csv('/kaggle/input/co2-emissions-1960-2018/CO2_Emissions_1960-2018.csv')\n",
    "population_df = pd.read_csv('/kaggle/input/world-population-dataset/world_population.csv')\n",
    "\n",
    "# Renomear colunas dos datasets de emissões\n",
    "co2_total = co2_total.rename(columns={\n",
    "    'country_name': 'Country',\n",
    "    'year': 'Year',\n",
    "    'value': 'CO2_kt'\n",
    "})\n",
    "\n",
    "# Lista de agregados que não são países reais\n",
    "excluded_names = [\n",
    "    \"World\", \"IDA & IBRD total\", \"Low & middle income\", \"Middle income\", \"IBRD only\",\n",
    "    \"Upper middle income\", \"Late-demographic dividend\", \"East Asia & Pacific\", \"High income\",\n",
    "    \"East Asia & Pacific (excluding high income)\", \"East Asia & Pacific (IDA & IBRD countries)\",\n",
    "    \"OECD members\", \"Post-demographic dividend\", \"Early-demographic dividend\",\n",
    "    \"Europe & Central Asia\", \"Lower middle income\", \"North America\",\n",
    "    \"Europe & Central Asia (IDA & IBRD countries)\", \"Europe & Central Asia (excluding high income)\",\n",
    "    \"European Union\", \"South Asia\", \"South Asia (IDA & IBRD)\", \"Middle East & North Africa\",\n",
    "    \"Euro area\", \"Arab World\", \"Latin America & Caribbean\",\n",
    "    \"Latin America & the Caribbean (IDA & IBRD countries)\",\n",
    "    \"Middle East & North Africa (excluding high income)\",\n",
    "    \"Middle East & North Africa (IDA & IBRD countries)\",\n",
    "    \"Latin America & Caribbean (excluding high income)\", \"IDA total\", \"Sub-Saharan Africa\",\n",
    "    \"Sub-Saharan Africa (IDA & IBRD countries)\", \"Sub-Saharan Africa (excluding high income)\",\n",
    "    \"Fragile and conflict affected situations\", \"Central Europe and the Baltics\",\n",
    "    \"Africa Eastern and Southern\", \"IDA blend\", \"Pre-demographic dividend\",\n",
    "    \"IDA only\", \"Least developed countries: UN classification\"\n",
    "]\n",
    "\n",
    "co2_percapita = co2_percapita.rename(columns={'Country Name': 'Country'})\n",
    "co2_percapita = co2_percapita.melt(id_vars=['Country'], var_name='Year', value_name='CO2_t_per_capita')\n",
    "co2_percapita['Year'] = co2_percapita['Year'].astype(int)\n",
    "\n",
    "# Unir os datasets de emissões (total e per capita)\n",
    "df = co2_total.merge(co2_percapita, on=['Country', 'Year'], how='inner')\n",
    "df = df.dropna(subset=['CO2_kt', 'CO2_t_per_capita'])\n",
    "\n",
    "# Filtrar para o último ano disponível (2018 no per capita)\n",
    "latest_year = 2018\n",
    "df_latest = df[df['Year'] == latest_year]\n",
    "\n",
    "# Ajustar nome da coluna de população e usar a população de 2020 (mais próxima)\n",
    "population_df = population_df.rename(columns={'Country/Territory': 'Country', '2020 Population': 'Population'})\n",
    "\n",
    "# Mesclar com dados de população\n",
    "merged = df_latest.merge(population_df[['Country', 'Population']], on='Country', how='left')\n",
    "\n",
    "# Remover entradas sem população\n",
    "merged = merged.dropna(subset=['Population'])\n",
    "\n",
    "# Converter população para número inteiro\n",
    "merged['Population'] = merged['Population'].astype(float)\n",
    "\n",
    "# Calcular emissão per capita estimada: CO2_kt * 1000 / população (toneladas por pessoa)\n",
    "merged['CO2_per_capita_calc'] = (merged['CO2_kt'] * 1000) / merged['Population']\n",
    "\n",
    "# Calcular diferença entre o valor per capita do dataset e o calculado pela população\n",
    "merged['Diff_per_capita_t'] = (merged['CO2_t_per_capita'] - merged['CO2_per_capita_calc']).abs()\n",
    "\n",
    "# Ordenar para achar os 5 maiores e menores discrepantes\n",
    "top5_high = merged.sort_values('Diff_per_capita_t', ascending=False).head(5)\n",
    "top5_low = merged.sort_values('Diff_per_capita_t', ascending=True).head(5)\n",
    "\n",
    "# Função para mostrar resultados formatados\n",
    "def show_top_compact(title, data):\n",
    "    print(f\"\\n{title} ({latest_year}):\")\n",
    "    print(f\"{'País':<25} {'CO2 Total (kt)':>10} {'CO2 per capita (orig)':>15} {'CO2 per capita (calc)':>15} {'Diferença (t)':>15}\")\n",
    "    print(\"-\" * 100)\n",
    "    for _, row in data.iterrows():\n",
    "        print(f\"{row['Country']:<25} {row['CO2_kt']:>10,.2f} {row['CO2_t_per_capita']:>15,.3f} {row['CO2_per_capita_calc']:>15,.3f} {row['Diff_per_capita_t']:>15,.3f}\")\n",
    "\n",
    "# Usar para mostrar\n",
    "show_top_compact(\"Top 5 países com MAIOR discrepância entre emissão per capita declarada e calculada\", top5_high)\n",
    "show_top_compact(\"Top 5 países com MENOR discrepância entre emissão per capita declarada e calculada\", top5_low)"
   ]
  },
  {
   "cell_type": "markdown",
   "id": "1cb2a9f2",
   "metadata": {
    "papermill": {
     "duration": 0.01383,
     "end_time": "2025-06-30T02:29:20.143185",
     "exception": false,
     "start_time": "2025-06-30T02:29:20.129355",
     "status": "completed"
    },
    "tags": []
   },
   "source": [
    "# <center> 6- Como se distribui a emissão média anual por renda (alta, média, baixa) dos países? </center>"
   ]
  },
  {
   "cell_type": "code",
   "execution_count": 6,
   "id": "69d41805",
   "metadata": {
    "execution": {
     "iopub.execute_input": "2025-06-30T02:29:20.182182Z",
     "iopub.status.busy": "2025-06-30T02:29:20.181467Z",
     "iopub.status.idle": "2025-06-30T02:29:20.510800Z",
     "shell.execute_reply": "2025-06-30T02:29:20.510238Z",
     "shell.execute_reply.started": "2025-06-30T02:27:55.000295Z"
    },
    "papermill": {
     "duration": 0.353459,
     "end_time": "2025-06-30T02:29:20.510970",
     "exception": false,
     "start_time": "2025-06-30T02:29:20.157511",
     "status": "completed"
    },
    "tags": []
   },
   "outputs": [
    {
     "name": "stdout",
     "output_type": "stream",
     "text": [
      "\n",
      "Distribuição das emissões médias anuais por grupo de renda (2010-2018):\n",
      "        Faixa de Renda  Média das Emissões (t/hab)  Desvio Padrão\n",
      "0          High income                    8.980677       5.924348\n",
      "1           Low income                    0.285528       0.415304\n",
      "2  Lower middle income                    1.034982       0.859918\n",
      "3  Upper middle income                    3.816073       2.725019\n"
     ]
    },
    {
     "data": {
      "image/png": "[encoded data removed]",
      "text/plain": [
       "<Figure size 720x432 with 1 Axes>"
      ]
     },
     "metadata": {
      "needs_background": "light"
     },
     "output_type": "display_data"
    }
   ],
   "source": [
    "import pandas as pd\n",
    "\n",
    "# === 1. LER O ARQUIVO DE EMISSÕES CO2 ===\n",
    "emissoes = pd.read_csv('/kaggle/input/co2-emissions-1960-2018/CO2_Emissions_1960-2018.csv')\n",
    "\n",
    "# Verificar colunas e anos disponíveis\n",
    "#print(emissoes.columns)\n",
    "\n",
    "# Selecionar anos recentes (exemplo: 2010 a 2018)\n",
    "anos = [str(ano) for ano in range(2010, 2019)]\n",
    "emissoes['Emissao_Media_Anual'] = emissoes[anos].mean(axis=1, skipna=True)\n",
    "\n",
    "\n",
    "# Manter apenas nome do país e emissão média\n",
    "#emissoes = emissoes[['Country Name ', 'Emissao_Media_Anual']]\n",
    "\n",
    "# Renomear a coluna 'Country Name' para 'Country Code'\n",
    "#emissoes = emissoes.rename(columns={'Country Name': 'Country Code'})\n",
    "\n",
    "#emissoes.columns = ['Country Code', 'Emissao_Media_Anual']\n",
    "\n",
    "\n",
    "# === 2. LER O ARQUIVO DE CLASSIFICAÇÃO DE RENDA ===\n",
    "renda = pd.read_csv('/kaggle/input/world-bank-contry/Metadata_Country_API_NY.GDP.MKTP.CD_DS2_en_csv_v2_127285.csv', skiprows=0)\n",
    "renda = renda[['Country Code', 'IncomeGroup', 'TableName']].dropna()\n",
    "\n",
    "renda = renda.rename(columns={'TableName': 'Country Name'})\n",
    "\n",
    "\n",
    "# === 3. JUNTAR OS DOIS DATAFRAMES PELO NOME DO PAÍS ===\n",
    "df = pd.merge(emissoes, renda, on='Country Name', how='inner')\n",
    "\n",
    "\n",
    "# === 4. AGRUPAR POR FAIXA DE RENDA E CALCULAR MÉDIA E DESVIO PADRÃO ===\n",
    "resultado = df.groupby('IncomeGroup')['Emissao_Media_Anual'].agg(['mean', 'std']).reset_index()\n",
    "\n",
    "# Renomear colunas para clareza\n",
    "resultado.columns = ['Faixa de Renda', 'Média das Emissões (t/hab)', 'Desvio Padrão']\n",
    "\n",
    "# === 5. EXIBIR RESULTADO FINAL ===\n",
    "print(\"\\nDistribuição das emissões médias anuais por grupo de renda (2010-2018):\")\n",
    "print(resultado)\n",
    "\n",
    "\n",
    "# Filtrar para manter apenas colunas relevantes e remover valores ausentes\n",
    "df_plot = df[['IncomeGroup', 'Emissao_Media_Anual']].dropna()\n",
    "\n",
    "# Criar boxplot com pandas\n",
    "df_plot.boxplot(column='Emissao_Media_Anual', by='IncomeGroup', grid=False, rot=45, figsize=(10, 6))\n",
    "\n",
    "# Ajustar título e rótulos\n",
    "import matplotlib.pyplot as plt\n",
    "plt.title('Emissão Média Anual de CO₂ por Grupo de Renda')\n",
    "plt.suptitle('')  # Remove o título automático do pandas\n",
    "plt.xlabel('Grupo de Renda')\n",
    "plt.ylabel('Emissão Média Anual (toneladas per capita)')\n",
    "plt.tight_layout()\n",
    "plt.show()"
   ]
  }
 ],
 "metadata": {
  "kaggle": {
   "accelerator": "none",
   "dataSources": [
    {
     "datasetId": 14947,
     "sourceId": 19943,
     "sourceType": "datasetVersion"
    },
    {
     "datasetId": 1671428,
     "sourceId": 2741541,
     "sourceType": "datasetVersion"
    },
    {
     "datasetId": 2432740,
     "sourceId": 4360255,
     "sourceType": "datasetVersion"
    },
    {
     "datasetId": 2950449,
     "sourceId": 5081220,
     "sourceType": "datasetVersion"
    },
    {
     "datasetId": 7766721,
     "sourceId": 12321563,
     "sourceType": "datasetVersion"
    },
    {
     "datasetId": 7768924,
     "sourceId": 12325027,
     "sourceType": "datasetVersion"
    }
   ],
   "dockerImageVersionId": 30138,
   "isGpuEnabled": false,
   "isInternetEnabled": false,
   "language": "python",
   "sourceType": "notebook"
  },
  "kernelspec": {
   "display_name": "Python 3",
   "language": "python",
   "name": "python3"
  },
  "language_info": {
   "codemirror_mode": {
    "name": "ipython",
    "version": 3
   },
   "file_extension": ".py",
   "mimetype": "text/x-python",
   "name": "python",
   "nbconvert_exporter": "python",
   "pygments_lexer": "ipython3",
   "version": "3.7.10"
  },
  "papermill": {
   "default_parameters": {},
   "duration": 13.072899,
   "end_time": "2025-06-30T02:29:21.238077",
   "environment_variables": {},
   "exception": null,
   "input_path": "__notebook__.ipynb",
   "output_path": "__notebook__.ipynb",
   "parameters": {},
   "start_time": "2025-06-30T02:29:08.165178",
   "version": "2.3.3"
  }
 },
 "nbformat": 4,
 "nbformat_minor": 5
}
